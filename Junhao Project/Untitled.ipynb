{
 "cells": [
  {
   "cell_type": "code",
   "execution_count": 1,
   "metadata": {},
   "outputs": [
    {
     "name": "stdout",
     "output_type": "stream",
     "text": [
      "                                                SMILES                  CID  \\\n",
      "479            N#Cc1cccc(CN2C(=O)C(=O)c3cccc(Br)c32)c1  LOR-NOR-30067bb9-11   \n",
      "251  CC(C)C[C@H](NC(=O)OCc1ccccc1)C(=O)N[C@@H](CC1C...   JOH-MSK-46727e7b-1   \n",
      "624                 O=C(Oc1cncc(Cl)c1)c1cccc2[nH]ccc12   ALP-POS-c59291d4-5   \n",
      "147            O=C(Nc1cncc2ccccc12)C1=CCCc2ccc(Cl)cc21   MAT-POS-0c8fa4a7-1   \n",
      "253  O=S(=O)(Cc1ccccc1F)c1oc(-c2ccc(F)cc2)nc1S(=O)(...   LON-WEI-4d77710c-2   \n",
      "..                                                 ...                  ...   \n",
      "92             Nc1nn(C(=O)C2CCOc3ccc(Cl)cc32)c2ccncc12   ALP-POS-902f21bb-2   \n",
      "818   COc1ccc(N2CCN(C(=O)c3cc(=O)[nH]c4ccccc34)CC2)cc1  BEN-DND-7e92b6ca-11   \n",
      "420      CC(C)Cn1cc(NC(=O)NCCc2ccc(Cl)cc2)c2ccccc2c1=O   MAT-POS-2492181e-4   \n",
      "194  Cc1cc(C(F)(F)F)nc2n[nH]c(NC(=O)C3CCOc4ccc(Cl)c...  JAG-UCB-52b62a6f-19   \n",
      "422      CC(C)Cn1cc(NC(=O)NCCCN2CCC(C)CC2)c2ccccc2c1=O   MAT-POS-2492181e-6   \n",
      "\n",
      "           canonical_CID  r_inhibition_at_20_uM  r_inhibition_at_50_uM  \\\n",
      "479  LOR-NOR-30067bb9-11                    NaN              91.182297   \n",
      "251   JOH-MSK-46727e7b-1                    NaN                    NaN   \n",
      "624   ALP-POS-c59291d4-5                    NaN             100.000000   \n",
      "147   MAT-POS-0c8fa4a7-1                    NaN                    NaN   \n",
      "253   LON-WEI-4d77710c-2                    NaN                    NaN   \n",
      "..                   ...                    ...                    ...   \n",
      "92    ALP-POS-902f21bb-2                    NaN                    NaN   \n",
      "818  BEN-DND-7e92b6ca-11                    NaN              51.360309   \n",
      "420   MAT-POS-2492181e-4                    NaN                    NaN   \n",
      "194  JAG-UCB-52b62a6f-19                    NaN                    NaN   \n",
      "422   MAT-POS-2492181e-6                    NaN                    NaN   \n",
      "\n",
      "     r_avg_IC50  f_inhibition_at_20_uM  f_inhibition_at_50_uM  f_avg_IC50  \\\n",
      "479    0.017013              -5.423704              -2.382182         NaN   \n",
      "251    0.025860                    NaN                    NaN    0.009759   \n",
      "624    0.055726              99.835615             100.014065    0.050000   \n",
      "147    0.081067                    NaN                    NaN    0.233267   \n",
      "253    0.099212              49.026625              95.884983    0.397483   \n",
      "..          ...                    ...                    ...         ...   \n",
      "92    95.243508                    NaN                    NaN   87.170481   \n",
      "818   95.695992              61.382670              81.716040   14.673871   \n",
      "420   95.946892              22.536741              -1.582535         NaN   \n",
      "194   98.088619                    NaN                    NaN   25.977643   \n",
      "422   98.244200              -1.816826              -1.614483         NaN   \n",
      "\n",
      "     f_avg_pIC50  relative_solubility_at_20_uM  relative_solubility_at_100_uM  \\\n",
      "479          NaN                           NaN                            NaN   \n",
      "251     8.010609                           NaN                            NaN   \n",
      "624          NaN                          0.99                           0.93   \n",
      "147     6.632146                           NaN                            NaN   \n",
      "253     6.400681                           NaN                            NaN   \n",
      "..           ...                           ...                            ...   \n",
      "92      4.059631                           NaN                            NaN   \n",
      "818     4.833455                          1.00                           1.00   \n",
      "420          NaN                           NaN                            NaN   \n",
      "194     4.585400                           NaN                            NaN   \n",
      "422          NaN                           NaN                            NaN   \n",
      "\n",
      "     trypsin_IC50  NMR_std_ratio acrylamide chloroacetamide  \\\n",
      "479           NaN      82.102728      False           False   \n",
      "251           NaN            NaN      False           False   \n",
      "624          99.0     130.529098      False           False   \n",
      "147           NaN            NaN      False           False   \n",
      "253           NaN            NaN      False           False   \n",
      "..            ...            ...        ...             ...   \n",
      "92            NaN            NaN      False           False   \n",
      "818           NaN      47.796738      False           False   \n",
      "420           NaN            NaN      False           False   \n",
      "194           NaN            NaN      False           False   \n",
      "422           NaN            NaN      False           False   \n",
      "\n",
      "                   series frag_id  \n",
      "479               Isatins     NaN  \n",
      "251                   NaN     NaN  \n",
      "624       activated-ester  x10812  \n",
      "147  3-aminopyridine-like     NaN  \n",
      "253                   NaN     NaN  \n",
      "..                    ...     ...  \n",
      "92                    NaN     NaN  \n",
      "818            quinolones     NaN  \n",
      "420                   NaN     NaN  \n",
      "194  3-aminopyridine-like     NaN  \n",
      "422                   NaN     NaN  \n",
      "\n",
      "[354 rows x 18 columns]\n"
     ]
    }
   ],
   "source": [
    "import pandas as pd\n",
    "import numpy as np\n",
    "import matplotlib.pyplot as plt\n",
    "%matplotlib inline\n",
    "\n",
    "df = pd.read_csv('activity_data.csv')\n",
    "df = df.dropna(subset=['r_avg_IC50'])\n",
    "df.sort_values(by=['r_avg_IC50'],ascending=True,inplace=True)\n",
    "df = df.drop(df[df['r_avg_IC50']>=99].index)\n",
    "print(df)\n",
    "#df.to_csv('data.txt',sep ='\\t', index = False, header = False)"
   ]
  },
  {
   "cell_type": "code",
   "execution_count": 2,
   "metadata": {
    "scrolled": true
   },
   "outputs": [
    {
     "name": "stdout",
     "output_type": "stream",
     "text": [
      "                     CID                                             SMILES  \\\n",
      "0    LOR-NOR-30067bb9-11            N#Cc1cccc(CN2C(=O)C(=O)c3cccc(Br)c32)c1   \n",
      "1     JOH-MSK-46727e7b-1  CC(C)C[C@H](NC(=O)OCc1ccccc1)C(=O)N[C@@H](CC1C...   \n",
      "2     ALP-POS-c59291d4-5                 O=C(Oc1cncc(Cl)c1)c1cccc2[nH]ccc12   \n",
      "3     MAT-POS-0c8fa4a7-1            O=C(Nc1cncc2ccccc12)C1=CCCc2ccc(Cl)cc21   \n",
      "4     LON-WEI-4d77710c-2  O=S(=O)(Cc1ccccc1F)c1oc(-c2ccc(F)cc2)nc1S(=O)(...   \n",
      "..                   ...                                                ...   \n",
      "348   ALP-POS-902f21bb-2            Nc1nn(C(=O)C2CCOc3ccc(Cl)cc32)c2ccncc12   \n",
      "349  BEN-DND-7e92b6ca-11   COc1ccc(N2CCN(C(=O)c3cc(=O)[nH]c4ccccc34)CC2)cc1   \n",
      "350   MAT-POS-2492181e-4      CC(C)Cn1cc(NC(=O)NCCc2ccc(Cl)cc2)c2ccccc2c1=O   \n",
      "351  JAG-UCB-52b62a6f-19  Cc1cc(C(F)(F)F)nc2n[nH]c(NC(=O)C3CCOc4ccc(Cl)c...   \n",
      "352   MAT-POS-2492181e-6      CC(C)Cn1cc(NC(=O)NCCCN2CCC(C)CC2)c2ccccc2c1=O   \n",
      "\n",
      "     r_avg_IC50  LF Rank Score  LF dG  LF VSscore  \n",
      "0      0.017013         -6.619 -7.150      -8.523  \n",
      "1      0.025860        -12.022 -8.672     -10.714  \n",
      "2      0.055726         -6.623 -7.229      -8.307  \n",
      "3      0.081067         -7.515 -8.376      -9.565  \n",
      "4      0.099212        -12.156 -7.511      -9.377  \n",
      "..          ...            ...    ...         ...  \n",
      "348   95.243508         -6.597 -7.731      -8.905  \n",
      "349   95.695992         -5.383 -6.276      -7.621  \n",
      "350   95.946892         -6.100 -8.238      -9.712  \n",
      "351   98.088619        -10.011 -7.496      -9.387  \n",
      "352   98.244200         -5.543 -8.013      -9.376  \n",
      "\n",
      "[353 rows x 6 columns]\n"
     ]
    }
   ],
   "source": [
    "dock = pd.read_csv('scores.csv')\n",
    "dock = dock.dropna(axis=0, how='all')\n",
    "\n",
    "dock.rename(columns={'lig_name': 'CID'},inplace = True)\n",
    "dock['CID'] = dock['CID'].apply(lambda x: x.split('\\t')[0])\n",
    "#print(dock)\n",
    "\n",
    "df = df[['CID','SMILES','r_avg_IC50']]\n",
    "result=pd.merge(df,dock,on='CID')\n",
    "print(result)"
   ]
  },
  {
   "cell_type": "code",
   "execution_count": 3,
   "metadata": {},
   "outputs": [
    {
     "name": "stdout",
     "output_type": "stream",
     "text": [
      "     exp_rank                  CID  \\\n",
      "0           0  LOR-NOR-30067bb9-11   \n",
      "1           1   JOH-MSK-46727e7b-1   \n",
      "2           2   ALP-POS-c59291d4-5   \n",
      "3           3   MAT-POS-0c8fa4a7-1   \n",
      "4           4   LON-WEI-4d77710c-2   \n",
      "..        ...                  ...   \n",
      "348       348   ALP-POS-902f21bb-2   \n",
      "349       349  BEN-DND-7e92b6ca-11   \n",
      "350       350   MAT-POS-2492181e-4   \n",
      "351       351  JAG-UCB-52b62a6f-19   \n",
      "352       352   MAT-POS-2492181e-6   \n",
      "\n",
      "                                                SMILES  r_avg_IC50  \\\n",
      "0              N#Cc1cccc(CN2C(=O)C(=O)c3cccc(Br)c32)c1    0.017013   \n",
      "1    CC(C)C[C@H](NC(=O)OCc1ccccc1)C(=O)N[C@@H](CC1C...    0.025860   \n",
      "2                   O=C(Oc1cncc(Cl)c1)c1cccc2[nH]ccc12    0.055726   \n",
      "3              O=C(Nc1cncc2ccccc12)C1=CCCc2ccc(Cl)cc21    0.081067   \n",
      "4    O=S(=O)(Cc1ccccc1F)c1oc(-c2ccc(F)cc2)nc1S(=O)(...    0.099212   \n",
      "..                                                 ...         ...   \n",
      "348            Nc1nn(C(=O)C2CCOc3ccc(Cl)cc32)c2ccncc12   95.243508   \n",
      "349   COc1ccc(N2CCN(C(=O)c3cc(=O)[nH]c4ccccc34)CC2)cc1   95.695992   \n",
      "350      CC(C)Cn1cc(NC(=O)NCCc2ccc(Cl)cc2)c2ccccc2c1=O   95.946892   \n",
      "351  Cc1cc(C(F)(F)F)nc2n[nH]c(NC(=O)C3CCOc4ccc(Cl)c...   98.088619   \n",
      "352      CC(C)Cn1cc(NC(=O)NCCCN2CCC(C)CC2)c2ccccc2c1=O   98.244200   \n",
      "\n",
      "     LF Rank Score  LF dG  LF VSscore  \n",
      "0           -6.619 -7.150      -8.523  \n",
      "1          -12.022 -8.672     -10.714  \n",
      "2           -6.623 -7.229      -8.307  \n",
      "3           -7.515 -8.376      -9.565  \n",
      "4          -12.156 -7.511      -9.377  \n",
      "..             ...    ...         ...  \n",
      "348         -6.597 -7.731      -8.905  \n",
      "349         -5.383 -6.276      -7.621  \n",
      "350         -6.100 -8.238      -9.712  \n",
      "351        -10.011 -7.496      -9.387  \n",
      "352         -5.543 -8.013      -9.376  \n",
      "\n",
      "[353 rows x 7 columns]\n",
      "     Rankscore_rank  exp_rank                  CID  \\\n",
      "0                 0       271   MAT-POS-044491d2-1   \n",
      "1                 1        51  LON-WEI-4d77710c-61   \n",
      "2                 2       105   LON-WEI-babf2c61-1   \n",
      "3                 3       261  LON-WEI-b8d98729-38   \n",
      "4                 4       116   MAT-POS-f42f3716-1   \n",
      "..              ...       ...                  ...   \n",
      "348             348       104  MED-COV-4280ac29-13   \n",
      "349             349       188   MAK-UNK-af83ef51-2   \n",
      "350             350        48   GIA-UNK-20b63697-6   \n",
      "351             351        79   JOH-UNI-44664832-2   \n",
      "352             352       229   GIA-UNK-a79af1bc-1   \n",
      "\n",
      "                                                SMILES  r_avg_IC50  \\\n",
      "0              Cc1ccncc1NC(=O)Cc1cc(Cl)cc(NC2CCCC2O)c1   38.855927   \n",
      "1    O=[N+]([O-])c1cnc(Sc2nnc(-c3ccco3)n2-c2ccc(OCc...    0.659520   \n",
      "2    C=CC(=O)N(c1ccc(C(C)(C)C)cc1)C(C(=O)NCCc1cccc(...    2.112801   \n",
      "3    C=CC(=O)N(c1ccc2ncsc2c1)C(C(=O)Nc1cccc(CC)c1)c...   32.030614   \n",
      "4    Cc1ccncc1NC(=O)Cc1cc(Cl)cc(-c2ccc(C3CC3(F)F)cc...    2.832000   \n",
      "..                                                 ...         ...   \n",
      "348                   CC1CN(Cc2cccc(Cl)c2)CCN1C(=O)CCl    2.077428   \n",
      "349                   CC(CCc1ccccc1)N1CCN(C(=O)CCl)CC1   13.583027   \n",
      "350              O=C(CCl)N1CCN(C(c2ccccc2)C2CCCCC2)CC1    0.643563   \n",
      "351  CCP(CC)(CC)=[Au]S[C@@H]1O[C@H](COC(C)=O)[C@@H]...    1.240614   \n",
      "352                  Cc1cc(C)nc(NC2CCN(C(=O)CCl)CC2)n1   19.473886   \n",
      "\n",
      "     LF Rank Score  LF dG  LF VSscore  \n",
      "0          -14.085 -9.840     -11.501  \n",
      "1          -13.842 -7.357      -9.931  \n",
      "2          -13.736 -9.992     -11.735  \n",
      "3          -13.420 -9.853     -11.099  \n",
      "4          -13.341 -9.955     -11.345  \n",
      "..             ...    ...         ...  \n",
      "348         -4.486 -8.064      -8.332  \n",
      "349         -4.430 -7.241      -7.830  \n",
      "350         -4.388 -7.850      -8.479  \n",
      "351         -4.312 -5.560      -9.257  \n",
      "352         -4.198 -6.990      -7.505  \n",
      "\n",
      "[353 rows x 8 columns]\n",
      "                     CID                                             SMILES  \\\n",
      "0    LOR-NOR-30067bb9-11            N#Cc1cccc(CN2C(=O)C(=O)c3cccc(Br)c32)c1   \n",
      "1     JOH-MSK-46727e7b-1  CC(C)C[C@H](NC(=O)OCc1ccccc1)C(=O)N[C@@H](CC1C...   \n",
      "2     ALP-POS-c59291d4-5                 O=C(Oc1cncc(Cl)c1)c1cccc2[nH]ccc12   \n",
      "3     MAT-POS-0c8fa4a7-1            O=C(Nc1cncc2ccccc12)C1=CCCc2ccc(Cl)cc21   \n",
      "4     LON-WEI-4d77710c-2  O=S(=O)(Cc1ccccc1F)c1oc(-c2ccc(F)cc2)nc1S(=O)(...   \n",
      "..                   ...                                                ...   \n",
      "348   ALP-POS-902f21bb-2            Nc1nn(C(=O)C2CCOc3ccc(Cl)cc32)c2ccncc12   \n",
      "349  BEN-DND-7e92b6ca-11   COc1ccc(N2CCN(C(=O)c3cc(=O)[nH]c4ccccc34)CC2)cc1   \n",
      "350   MAT-POS-2492181e-4      CC(C)Cn1cc(NC(=O)NCCc2ccc(Cl)cc2)c2ccccc2c1=O   \n",
      "351  JAG-UCB-52b62a6f-19  Cc1cc(C(F)(F)F)nc2n[nH]c(NC(=O)C3CCOc4ccc(Cl)c...   \n",
      "352   MAT-POS-2492181e-6      CC(C)Cn1cc(NC(=O)NCCCN2CCC(C)CC2)c2ccccc2c1=O   \n",
      "\n",
      "     r_avg_IC50  LF Rank Score  LF dG  LF VSscore  \n",
      "0      0.017013         -6.619 -7.150      -8.523  \n",
      "1      0.025860        -12.022 -8.672     -10.714  \n",
      "2      0.055726         -6.623 -7.229      -8.307  \n",
      "3      0.081067         -7.515 -8.376      -9.565  \n",
      "4      0.099212        -12.156 -7.511      -9.377  \n",
      "..          ...            ...    ...         ...  \n",
      "348   95.243508         -6.597 -7.731      -8.905  \n",
      "349   95.695992         -5.383 -6.276      -7.621  \n",
      "350   95.946892         -6.100 -8.238      -9.712  \n",
      "351   98.088619        -10.011 -7.496      -9.387  \n",
      "352   98.244200         -5.543 -8.013      -9.376  \n",
      "\n",
      "[353 rows x 6 columns]\n"
     ]
    }
   ],
   "source": [
    "#test1: exp_rank vs VSscore_rank\n",
    "test1 = result\n",
    "test1.sort_values(by=['r_avg_IC50'],ascending=True,inplace=True)\n",
    "test1 = test1.reset_index(drop=True)\n",
    "test1 = test1.reset_index(drop=False)\n",
    "test1.rename(columns={'index':'exp_rank'}, inplace = True)\n",
    "print(test1)\n",
    "\n",
    "test1.sort_values(by=['LF Rank Score'],ascending=True,inplace=True)\n",
    "test1 = test1.reset_index(drop=True)\n",
    "test1 = test1.reset_index(drop=False)\n",
    "test1.rename(columns={'index':'Rankscore_rank'}, inplace = True)\n",
    "\n",
    "print(test1)\n",
    "print(result)"
   ]
  },
  {
   "cell_type": "code",
   "execution_count": 4,
   "metadata": {},
   "outputs": [
    {
     "data": {
      "image/png": "[encoded data removed]",
      "text/plain": [
       "<Figure size 432x288 with 1 Axes>"
      ]
     },
     "metadata": {
      "needs_background": "light"
     },
     "output_type": "display_data"
    },
    {
     "name": "stdout",
     "output_type": "stream",
     "text": [
      "0.020851702553940036\n"
     ]
    }
   ],
   "source": [
    "test1.plot(kind='scatter', x='exp_rank', y='Rankscore_rank')\n",
    "plt.show()\n",
    "\n",
    "corr = test1.exp_rank.corr(test1.Rankscore_rank)\n",
    "print(corr)"
   ]
  },
  {
   "cell_type": "code",
   "execution_count": 5,
   "metadata": {},
   "outputs": [
    {
     "name": "stdout",
     "output_type": "stream",
     "text": [
      "0      -548.919525\n",
      "1     -2961.019003\n",
      "2     -2272.051066\n",
      "3      -663.230075\n",
      "4     -2098.682203\n",
      "          ...     \n",
      "348   -2282.042267\n",
      "349   -1170.889028\n",
      "350   -2975.512628\n",
      "351   -2587.112156\n",
      "352    -957.703324\n",
      "Name: r_avg_IC50, Length: 353, dtype: float64\n",
      "0     -5.082\n",
      "1     -2.599\n",
      "2     -5.234\n",
      "3     -5.095\n",
      "4     -5.197\n",
      "       ...  \n",
      "348   -3.306\n",
      "349   -2.483\n",
      "350   -3.092\n",
      "351   -0.802\n",
      "352   -2.232\n",
      "Name: LF dG, Length: 353, dtype: float64\n",
      "          dG_exp  dG_flare\n",
      "0    -548.919525    -5.082\n",
      "1   -2961.019003    -2.599\n",
      "2   -2272.051066    -5.234\n",
      "3    -663.230075    -5.095\n",
      "4   -2098.682203    -5.197\n",
      "..           ...       ...\n",
      "348 -2282.042267    -3.306\n",
      "349 -1170.889028    -2.483\n",
      "350 -2975.512628    -3.092\n",
      "351 -2587.112156    -0.802\n",
      "352  -957.703324    -2.232\n",
      "\n",
      "[353 rows x 2 columns]\n"
     ]
    }
   ],
   "source": [
    "# kt = 9.83*10^(-22) cal at 20 degree\n",
    "dG_exp = 9.83*10**(-22)*np.log(test1.r_avg_IC50/result['r_avg_IC50'].max())*(6.02*10**23)\n",
    "print(dG_exp)\n",
    "\n",
    "dG_flare = test1['LF dG']-(result['LF dG'].max())\n",
    "print(dG_flare)\n",
    "\n",
    "#test2: dG_exp vs dG_flare\n",
    "test2 = pd.concat([dG_exp, dG_flare], axis=1)\n",
    "test2.rename(columns={'r_avg_IC50':'dG_exp', 'LF dG': 'dG_flare'},inplace=True)\n",
    "print(test2)"
   ]
  },
  {
   "cell_type": "code",
   "execution_count": 6,
   "metadata": {
    "scrolled": false
   },
   "outputs": [
    {
     "data": {
      "image/png": "[encoded data removed]",
      "text/plain": [
       "<Figure size 432x288 with 1 Axes>"
      ]
     },
     "metadata": {
      "needs_background": "light"
     },
     "output_type": "display_data"
    },
    {
     "name": "stdout",
     "output_type": "stream",
     "text": [
      "0.08776788005965991\n"
     ]
    }
   ],
   "source": [
    "test2.plot(kind='scatter', x='dG_exp', y='dG_flare')\n",
    "plt.show()\n",
    "\n",
    "corr1 = test2.dG_exp.corr(test2.dG_flare)\n",
    "print(corr1)"
   ]
  },
  {
   "cell_type": "markdown",
   "metadata": {},
   "source": [
    "# GNN"
   ]
  },
  {
   "cell_type": "code",
   "execution_count": 7,
   "metadata": {},
   "outputs": [
    {
     "name": "stdout",
     "output_type": "stream",
     "text": [
      "                     CID                                             SMILES  \\\n",
      "0    LOR-NOR-30067bb9-11            N#Cc1cccc(CN2C(=O)C(=O)c3cccc(Br)c32)c1   \n",
      "1     JOH-MSK-46727e7b-1  CC(C)C[C@H](NC(=O)OCc1ccccc1)C(=O)N[C@@H](CC1C...   \n",
      "2     ALP-POS-c59291d4-5                 O=C(Oc1cncc(Cl)c1)c1cccc2[nH]ccc12   \n",
      "3     MAT-POS-0c8fa4a7-1            O=C(Nc1cncc2ccccc12)C1=CCCc2ccc(Cl)cc21   \n",
      "4     LON-WEI-4d77710c-2  O=S(=O)(Cc1ccccc1F)c1oc(-c2ccc(F)cc2)nc1S(=O)(...   \n",
      "..                   ...                                                ...   \n",
      "348   ALP-POS-902f21bb-2            Nc1nn(C(=O)C2CCOc3ccc(Cl)cc32)c2ccncc12   \n",
      "349  BEN-DND-7e92b6ca-11   COc1ccc(N2CCN(C(=O)c3cc(=O)[nH]c4ccccc34)CC2)cc1   \n",
      "350   MAT-POS-2492181e-4      CC(C)Cn1cc(NC(=O)NCCc2ccc(Cl)cc2)c2ccccc2c1=O   \n",
      "351  JAG-UCB-52b62a6f-19  Cc1cc(C(F)(F)F)nc2n[nH]c(NC(=O)C3CCOc4ccc(Cl)c...   \n",
      "352   MAT-POS-2492181e-6      CC(C)Cn1cc(NC(=O)NCCCN2CCC(C)CC2)c2ccccc2c1=O   \n",
      "\n",
      "     affinity  LF Rank Score  LF dG  LF VSscore  \\\n",
      "0    7.769216         -6.619 -7.150      -8.523   \n",
      "1    7.587379        -12.022 -8.672     -10.714   \n",
      "2    7.253944         -6.623 -7.229      -8.307   \n",
      "3    7.091155         -7.515 -8.376      -9.565   \n",
      "4    7.003437        -12.156 -7.511      -9.377   \n",
      "..        ...            ...    ...         ...   \n",
      "348  4.021165         -6.597 -7.731      -8.905   \n",
      "349  4.019106         -5.383 -6.276      -7.621   \n",
      "350  4.017969         -6.100 -8.238      -9.712   \n",
      "351  4.008381        -10.011 -7.496      -9.387   \n",
      "352  4.007693         -5.543 -8.013      -9.376   \n",
      "\n",
      "                                       target_sequence  \n",
      "0    SGFRKMAFPSGKVEGCMVQVTCGTTTLNGLWLDDVVYCPRHVICTS...  \n",
      "1    SGFRKMAFPSGKVEGCMVQVTCGTTTLNGLWLDDVVYCPRHVICTS...  \n",
      "2    SGFRKMAFPSGKVEGCMVQVTCGTTTLNGLWLDDVVYCPRHVICTS...  \n",
      "3    SGFRKMAFPSGKVEGCMVQVTCGTTTLNGLWLDDVVYCPRHVICTS...  \n",
      "4    SGFRKMAFPSGKVEGCMVQVTCGTTTLNGLWLDDVVYCPRHVICTS...  \n",
      "..                                                 ...  \n",
      "348  SGFRKMAFPSGKVEGCMVQVTCGTTTLNGLWLDDVVYCPRHVICTS...  \n",
      "349  SGFRKMAFPSGKVEGCMVQVTCGTTTLNGLWLDDVVYCPRHVICTS...  \n",
      "350  SGFRKMAFPSGKVEGCMVQVTCGTTTLNGLWLDDVVYCPRHVICTS...  \n",
      "351  SGFRKMAFPSGKVEGCMVQVTCGTTTLNGLWLDDVVYCPRHVICTS...  \n",
      "352  SGFRKMAFPSGKVEGCMVQVTCGTTTLNGLWLDDVVYCPRHVICTS...  \n",
      "\n",
      "[353 rows x 7 columns]\n"
     ]
    }
   ],
   "source": [
    "#set train,test data set.\n",
    "prot_seq ='SGFRKMAFPSGKVEGCMVQVTCGTTTLNGLWLDDVVYCPRHVICTSMLNPNYEDLLIRKSNHNFLVQAGNVQLRVIGHSMQNCVLKLKVDTANPKTPKYKFVRIQPGQTFSVLACYNGSPSGVYQCAMRPNFTIKGSFLNGSCGSVGFNIDYDCVSFCYMHHMELPTGVHAGTDLEGNFYGPFVDRQTAQAAGTDTTITVNVLAWLYAAVINGDRWFLNRFTTTLNDFNLVAMKYNYEPLTQDHVDILGPLSAQTGIAVLDMCASLKELLQNGMNGRTILGSALLEDEFTPFDVVRQCSGVTF'\n",
    "df1 = result\n",
    "df1['target_sequence']= prot_seq\n",
    "df1=df1.rename(columns={'r_avg_IC50':'affinity'})\n",
    "df1['affinity'] = -np.log10(df1['affinity']/(1e6))\n",
    "print(df1)\n",
    "#df1.to_csv('candidates.csv')\n",
    "\n",
    "from sklearn.model_selection import train_test_split\n",
    "train, test = train_test_split(df1,test_size=0.2)\n",
    "#print(test)\n",
    "# train.to_csv('covid_train.csv')\n",
    "# test.to_csv('covid_test.csv')"
   ]
  },
  {
   "cell_type": "code",
   "execution_count": 8,
   "metadata": {},
   "outputs": [],
   "source": [
    "df2 = pd.read_csv('Newactivity_data.csv')\n",
    "df2['target_sequence']= prot_seq\n",
    "df2.rename(columns={'f_avg_pIC50':'affinity'},inplace = True)\n",
    "df2 = df2.dropna(subset=['affinity'])\n",
    "\n",
    "train1, test1 = train_test_split(df2,test_size=0.2)\n",
    "#print(test1)\n",
    "#train1.to_csv('covid1_train.csv')\n",
    "#test1.to_csv('covid1_test.csv')"
   ]
  },
  {
   "cell_type": "code",
   "execution_count": 9,
   "metadata": {},
   "outputs": [
    {
     "name": "stdout",
     "output_type": "stream",
     "text": [
      "<class 'list'>\n"
     ]
    }
   ],
   "source": [
    "copy = df1['SMILES']\n",
    "print(list)\n",
    "copy.to_csv('candidates.txt',index=None)"
   ]
  },
  {
   "cell_type": "code",
   "execution_count": null,
   "metadata": {},
   "outputs": [],
   "source": []
  }
 ],
 "metadata": {
  "kernelspec": {
   "display_name": "Python 3",
   "language": "python",
   "name": "python3"
  },
  "language_info": {
   "codemirror_mode": {
    "name": "ipython",
    "version": 3
   },
   "file_extension": ".py",
   "mimetype": "text/x-python",
   "name": "python",
   "nbconvert_exporter": "python",
   "pygments_lexer": "ipython3",
   "version": "3.8.5"
  }
 },
 "nbformat": 4,
 "nbformat_minor": 4
}
