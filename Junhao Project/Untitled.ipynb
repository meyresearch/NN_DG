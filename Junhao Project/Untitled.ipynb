{
 "cells": [
  {
   "cell_type": "code",
   "execution_count": 1,
   "metadata": {},
   "outputs": [],
   "source": [
    "import pandas as pd\n",
    "import numpy as np\n",
    "import matplotlib.pyplot as plt\n",
    "%matplotlib inline\n",
    "\n",
    "df = pd.read_csv('activity_data.csv')\n",
    "df = df.dropna(subset=['r_avg_IC50'])\n",
    "df.sort_values(by=['r_avg_IC50'],ascending=True,inplace=True)\n",
    "df = df.drop(df[df['r_avg_IC50']>=99].index)\n",
    "#print(df)\n",
    "#df.to_csv('data.txt',sep ='\\t', index = False, header = False)"
   ]
  },
  {
   "cell_type": "code",
   "execution_count": 2,
   "metadata": {
    "scrolled": true
   },
   "outputs": [
    {
     "name": "stdout",
     "output_type": "stream",
     "text": [
      "                     CID  r_avg_IC50  LF Rank Score  LF dG  LF VSscore\n",
      "0    LOR-NOR-30067bb9-11    0.017013         -6.619 -7.150      -8.523\n",
      "1     JOH-MSK-46727e7b-1    0.025860        -12.022 -8.672     -10.714\n",
      "2     ALP-POS-c59291d4-5    0.055726         -6.623 -7.229      -8.307\n",
      "3     MAT-POS-0c8fa4a7-1    0.081067         -7.515 -8.376      -9.565\n",
      "4     LON-WEI-4d77710c-2    0.099212        -12.156 -7.511      -9.377\n",
      "..                   ...         ...            ...    ...         ...\n",
      "348   ALP-POS-902f21bb-2   95.243508         -6.597 -7.731      -8.905\n",
      "349  BEN-DND-7e92b6ca-11   95.695992         -5.383 -6.276      -7.621\n",
      "350   MAT-POS-2492181e-4   95.946892         -6.100 -8.238      -9.712\n",
      "351  JAG-UCB-52b62a6f-19   98.088619        -10.011 -7.496      -9.387\n",
      "352   MAT-POS-2492181e-6   98.244200         -5.543 -8.013      -9.376\n",
      "\n",
      "[353 rows x 5 columns]\n"
     ]
    }
   ],
   "source": [
    "dock = pd.read_csv('scores.csv')\n",
    "dock = dock.dropna(axis=0, how='all')\n",
    "\n",
    "dock.rename(columns={'lig_name': 'CID'},inplace = True)\n",
    "dock['CID'] = dock['CID'].apply(lambda x: x.split('\\t')[0])\n",
    "#print(dock)\n",
    "\n",
    "df = df[['CID','r_avg_IC50']]\n",
    "result=pd.merge(df,dock,on='CID')\n",
    "print(result)"
   ]
  },
  {
   "cell_type": "code",
   "execution_count": 3,
   "metadata": {},
   "outputs": [
    {
     "name": "stdout",
     "output_type": "stream",
     "text": [
      "     Rankscore_rank  exp_rank                  CID  r_avg_IC50  LF Rank Score  \\\n",
      "0                 0       271   MAT-POS-044491d2-1   38.855927        -14.085   \n",
      "1                 1        51  LON-WEI-4d77710c-61    0.659520        -13.842   \n",
      "2                 2       105   LON-WEI-babf2c61-1    2.112801        -13.736   \n",
      "3                 3       261  LON-WEI-b8d98729-38   32.030614        -13.420   \n",
      "4                 4       116   MAT-POS-f42f3716-1    2.832000        -13.341   \n",
      "..              ...       ...                  ...         ...            ...   \n",
      "348             348       104  MED-COV-4280ac29-13    2.077428         -4.486   \n",
      "349             349       188   MAK-UNK-af83ef51-2   13.583027         -4.430   \n",
      "350             350        48   GIA-UNK-20b63697-6    0.643563         -4.388   \n",
      "351             351        79   JOH-UNI-44664832-2    1.240614         -4.312   \n",
      "352             352       229   GIA-UNK-a79af1bc-1   19.473886         -4.198   \n",
      "\n",
      "     LF dG  LF VSscore  \n",
      "0   -9.840     -11.501  \n",
      "1   -7.357      -9.931  \n",
      "2   -9.992     -11.735  \n",
      "3   -9.853     -11.099  \n",
      "4   -9.955     -11.345  \n",
      "..     ...         ...  \n",
      "348 -8.064      -8.332  \n",
      "349 -7.241      -7.830  \n",
      "350 -7.850      -8.479  \n",
      "351 -5.560      -9.257  \n",
      "352 -6.990      -7.505  \n",
      "\n",
      "[353 rows x 7 columns]\n"
     ]
    }
   ],
   "source": [
    "#test1: exp_rank vs VSscore_rank\n",
    "test1 = result\n",
    "test1.sort_values(by=['r_avg_IC50'],ascending=True,inplace=True)\n",
    "test1 = test1.reset_index(drop=True)\n",
    "test1 = test1.reset_index(drop=False)\n",
    "test1.rename(columns={'index':'exp_rank'}, inplace = True)\n",
    "\n",
    "test1.sort_values(by=['LF Rank Score'],ascending=True,inplace=True)\n",
    "test1 = test1.reset_index(drop=True)\n",
    "test1 = test1.reset_index(drop=False)\n",
    "test1.rename(columns={'index':'Rankscore_rank'}, inplace = True)\n",
    "\n",
    "print(test1)"
   ]
  },
  {
   "cell_type": "code",
   "execution_count": 6,
   "metadata": {},
   "outputs": [
    {
     "data": {
      "image/png": "[encoded data removed]",
      "text/plain": [
       "<Figure size 432x288 with 1 Axes>"
      ]
     },
     "metadata": {
      "needs_background": "light"
     },
     "output_type": "display_data"
    },
    {
     "name": "stdout",
     "output_type": "stream",
     "text": [
      "0.020851702553940036\n"
     ]
    }
   ],
   "source": [
    "test1.plot(kind='scatter', x='exp_rank', y='Rankscore_rank')\n",
    "plt.show()\n",
    "\n",
    "corr = test1.exp_rank.corr(test1.Rankscore_rank)\n",
    "print(corr)"
   ]
  },
  {
   "cell_type": "code",
   "execution_count": 6,
   "metadata": {},
   "outputs": [
    {
     "name": "stdout",
     "output_type": "stream",
     "text": [
      "0     -2750.845177\n",
      "1     -2445.770491\n",
      "2      -107.113244\n",
      "3     -1054.208085\n",
      "4     -2352.407657\n",
      "          ...     \n",
      "348    -914.374523\n",
      "349   -2006.640706\n",
      "350   -2692.013619\n",
      "351    -696.437424\n",
      "352    -458.933699\n",
      "Name: r_avg_IC50, Length: 353, dtype: float64\n",
      "0     -5.170\n",
      "1     -6.027\n",
      "2     -2.478\n",
      "3     -4.219\n",
      "4     -3.284\n",
      "       ...  \n",
      "348   -1.245\n",
      "349   -1.244\n",
      "350   -1.372\n",
      "351   -1.028\n",
      "352    0.000\n",
      "Name: LF dG, Length: 353, dtype: float64\n",
      "          dG_exp  dG_flare\n",
      "0   -2750.845177    -5.170\n",
      "1   -2445.770491    -6.027\n",
      "2    -107.113244    -2.478\n",
      "3   -1054.208085    -4.219\n",
      "4   -2352.407657    -3.284\n",
      "..           ...       ...\n",
      "348  -914.374523    -1.245\n",
      "349 -2006.640706    -1.244\n",
      "350 -2692.013619    -1.372\n",
      "351  -696.437424    -1.028\n",
      "352  -458.933699     0.000\n",
      "\n",
      "[353 rows x 2 columns]\n"
     ]
    }
   ],
   "source": [
    "# kt = 9.83*10^(-22) cal at 20 degree\n",
    "dG_exp = 9.83*10**(-22)*np.log(test1.r_avg_IC50/result['r_avg_IC50'].max())*(6.02*10**23)\n",
    "print(dG_exp)\n",
    "\n",
    "dG_flare = test1['LF dG']-(result['LF dG'].max())\n",
    "print(dG_flare)\n",
    "\n",
    "#test2: dG_exp vs dG_flare\n",
    "test2 = pd.concat([dG_exp, dG_flare], axis=1)\n",
    "test2.rename(columns={'r_avg_IC50':'dG_exp', 'LF dG': 'dG_flare'},inplace=True)\n",
    "print(test2)"
   ]
  },
  {
   "cell_type": "code",
   "execution_count": 7,
   "metadata": {
    "scrolled": false
   },
   "outputs": [
    {
     "data": {
      "image/png": "[encoded data removed]",
      "text/plain": [
       "<Figure size 432x288 with 1 Axes>"
      ]
     },
     "metadata": {
      "needs_background": "light"
     },
     "output_type": "display_data"
    },
    {
     "name": "stdout",
     "output_type": "stream",
     "text": [
      "0.08776788005966002\n"
     ]
    }
   ],
   "source": [
    "test2.plot(kind='scatter', x='dG_exp', y='dG_flare')\n",
    "plt.show()\n",
    "\n",
    "corr1 = test2.dG_exp.corr(test2.dG_flare)\n",
    "print(corr1)"
   ]
  },
  {
   "cell_type": "code",
   "execution_count": null,
   "metadata": {},
   "outputs": [],
   "source": []
  }
 ],
 "metadata": {
  "kernelspec": {
   "display_name": "Python 3",
   "language": "python",
   "name": "python3"
  },
  "language_info": {
   "codemirror_mode": {
    "name": "ipython",
    "version": 3
   },
   "file_extension": ".py",
   "mimetype": "text/x-python",
   "name": "python",
   "nbconvert_exporter": "python",
   "pygments_lexer": "ipython3",
   "version": "3.8.5"
  }
 },
 "nbformat": 4,
 "nbformat_minor": 4
}
